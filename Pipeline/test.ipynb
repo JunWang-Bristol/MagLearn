{
 "cells": [
  {
   "cell_type": "code",
   "execution_count": 1,
   "metadata": {
    "ExecuteTime": {
     "end_time": "2025-03-12T11:46:16.584467Z",
     "start_time": "2025-03-12T11:46:10.646285Z"
    }
   },
   "outputs": [],
   "source": [
    "import torch\n",
    "import torch.nn as nn"
   ]
  },
  {
   "cell_type": "code",
   "execution_count": 2,
   "metadata": {
    "ExecuteTime": {
     "end_time": "2025-03-12T11:49:22.991990Z",
     "start_time": "2025-03-12T11:49:22.979954Z"
    }
   },
   "outputs": [
    {
     "name": "stdout",
     "output_type": "stream",
     "text": [
      "tensor([[ 20],\n",
      "        [ 15],\n",
      "        [ 67],\n",
      "        [120],\n",
      "        [ 96],\n",
      "        [ 59],\n",
      "        [115],\n",
      "        [ 38],\n",
      "        [ 99],\n",
      "        [ 58]])\n"
     ]
    }
   ],
   "source": [
    "rand=torch.rand(10,1,device='cpu')\n",
    "rand=torch.rand(10,1,12,13,device='cpu')\n",
    "rand = torch.randint(128,(10,1))\n",
    "\n",
    "\n",
    "print(rand)"
   ]
  },
  {
   "cell_type": "code",
   "execution_count": 3,
   "metadata": {
    "ExecuteTime": {
     "end_time": "2025-03-12T11:49:28.617536Z",
     "start_time": "2025-03-12T11:49:28.602252Z"
    }
   },
   "outputs": [
    {
     "data": {
      "text/plain": [
       "tensor([    0,     1,     2,     3,     4,     5, 10000,     7,     8,     9])"
      ]
     },
     "execution_count": 3,
     "metadata": {},
     "output_type": "execute_result"
    }
   ],
   "source": [
    "# get tensor from 0-10\n",
    "a= torch.arange(0,10)\n",
    "b=a[6:]\n",
    "b[0]=10000\n",
    "a\n"
   ]
  }
 ],
 "metadata": {
  "kernelspec": {
   "display_name": "Maglearn",
   "language": "python",
   "name": "python3"
  },
  "language_info": {
   "codemirror_mode": {
    "name": "ipython",
    "version": 3
   },
   "file_extension": ".py",
   "mimetype": "text/x-python",
   "name": "python",
   "nbconvert_exporter": "python",
   "pygments_lexer": "ipython3",
   "version": "3.12.9"
  }
 },
 "nbformat": 4,
 "nbformat_minor": 2
}
