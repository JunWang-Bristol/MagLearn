{
 "cells": [
  {
   "cell_type": "markdown",
   "metadata": {
    "id": "XQSzNovNpM1J"
   },
   "source": [
    "# Env Setting"
   ]
  },
  {
   "cell_type": "code",
   "execution_count": 16,
   "metadata": {
    "colab": {
     "base_uri": "https://localhost:8080/"
    },
    "executionInfo": {
     "elapsed": 1768,
     "status": "ok",
     "timestamp": 1744033155232,
     "user": {
      "displayName": "moon cake",
      "userId": "15622537257136124626"
     },
     "user_tz": -60
    },
    "id": "Iw4foEOgNpdV",
    "outputId": "8d0a8123-a2aa-402b-d105-e6c84903ea04"
   },
   "outputs": [
    {
     "name": "stdout",
     "output_type": "stream",
     "text": [
      "Drive already mounted at /content/drive; to attempt to forcibly remount, call drive.mount(\"/content/drive\", force_remount=True).\n"
     ]
    }
   ],
   "source": [
    "from google.colab import drive\n",
    "drive.mount('/content/drive')"
   ]
  },
  {
   "cell_type": "code",
   "execution_count": 1,
   "metadata": {
    "colab": {
     "base_uri": "https://localhost:8080/"
    },
    "executionInfo": {
     "elapsed": 67,
     "status": "ok",
     "timestamp": 1744033155302,
     "user": {
      "displayName": "moon cake",
      "userId": "15622537257136124626"
     },
     "user_tz": -60
    },
    "id": "LMiZrcO9dSs5",
    "outputId": "f5a16133-a06b-417a-df08-921d64c1825a"
   },
   "outputs": [],
   "source": [
    "# Run in Colab to check the files in drive\n",
    "\n",
    "# %cd /content/drive/MyDrive/Maglearn_2/MagNet_comb\n",
    "# !ls"
   ]
  },
  {
   "cell_type": "code",
   "execution_count": 18,
   "metadata": {
    "executionInfo": {
     "elapsed": 3,
     "status": "ok",
     "timestamp": 1744033155317,
     "user": {
      "displayName": "moon cake",
      "userId": "15622537257136124626"
     },
     "user_tz": -60
    },
    "id": "q-7c4UHkyo9q"
   },
   "outputs": [],
   "source": [
    "import os\n",
    "from path_config import *\n",
    "\n",
    "model_saved_name = os.path.join(material_name, \"model_colab.ckpt\")"
   ]
  },
  {
   "cell_type": "code",
   "execution_count": 19,
   "metadata": {
    "executionInfo": {
     "elapsed": 5,
     "status": "ok",
     "timestamp": 1744033155325,
     "user": {
      "displayName": "moon cake",
      "userId": "15622537257136124626"
     },
     "user_tz": -60
    },
    "id": "w3eIpspYCaNi"
   },
   "outputs": [],
   "source": [
    "# current_path = os.getcwd()\n",
    "# index = current_path.find(\"DeepLearning\")\n",
    "# current_path = current_path[index:]\n",
    "# current_path='/content/drive/MyDrive/'+current_path\n",
    "# current_path=current_path.replace('\\\\','/')\n",
    "# \"colab_dir = \"+current_path\n",
    "# current_path"
   ]
  },
  {
   "cell_type": "markdown",
   "metadata": {
    "id": "9oHNo5pjyo9r"
   },
   "source": [
    "## Colab"
   ]
  },
  {
   "cell_type": "code",
   "execution_count": 20,
   "metadata": {
    "colab": {
     "base_uri": "https://localhost:8080/"
    },
    "executionInfo": {
     "elapsed": 8,
     "status": "ok",
     "timestamp": 1744033155331,
     "user": {
      "displayName": "moon cake",
      "userId": "15622537257136124626"
     },
     "user_tz": -60
    },
    "id": "BY47VVFEpe5q",
    "outputId": "716375bd-a929-4058-b31d-2593fb60cfc5"
   },
   "outputs": [
    {
     "name": "stdout",
     "output_type": "stream",
     "text": [
      "/content/drive/MyDrive/Maglearn_2/MagNet_comb\n"
     ]
    }
   ],
   "source": [
    "current_path = os.getcwd()\n",
    "colab_dir = current_path\n",
    "print(f'{colab_dir}')\n",
    "\n",
    "platform = 'auto' # auto detect platform (colab, windows_local, linux_local, unknown)\n",
    "#platform = 'colab'\n",
    "#platform = 'windows_local'\n",
    "#platform = 'linux_local'\n",
    "#platform = 'unknown'"
   ]
  },
  {
   "cell_type": "markdown",
   "metadata": {
    "id": "F3jSpmi4pU5n"
   },
   "source": [
    "### Path config"
   ]
  },
  {
   "cell_type": "code",
   "execution_count": 21,
   "metadata": {
    "colab": {
     "base_uri": "https://localhost:8080/"
    },
    "executionInfo": {
     "elapsed": 1754,
     "status": "ok",
     "timestamp": 1744033157086,
     "user": {
      "displayName": "moon cake",
      "userId": "15622537257136124626"
     },
     "user_tz": -60
    },
    "id": "7EAuEhFiocKq",
    "outputId": "df48164c-8172-4e6b-cc6d-358c85ea79b6"
   },
   "outputs": [
    {
     "name": "stdout",
     "output_type": "stream",
     "text": [
      "Drive already mounted at /content/drive; to attempt to forcibly remount, call drive.mount(\"/content/drive\", force_remount=True).\n",
      "\n",
      "current execution path:  /content/drive/MyDrive/Maglearn_2/MagNet_comb\n",
      "\n",
      "current platform:  colab\n"
     ]
    }
   ],
   "source": [
    "import os\n",
    "\n",
    "try:\n",
    "    from google.colab import drive\n",
    "    drive.mount(\"/content/drive\")\n",
    "except ImportError:\n",
    "    if os.path.exists('c:/'):  # check if it is windows\n",
    "        platform = 'windows_local'\n",
    "    elif os.path.exists('/home/'):  # check if it is linux\n",
    "        platform = 'linux_local'\n",
    "    else:\n",
    "        platform = 'unknown'\n",
    "else:\n",
    "    platform = 'colab'\n",
    "\n",
    "if platform == 'colab':\n",
    "  os.chdir(colab_dir)\n",
    "\n",
    "print('\\ncurrent execution path: ', os.getcwd())  #获取当前工作目录路径\n",
    "print('\\ncurrent platform: ', platform)  #获取当前工作目录路径"
   ]
  },
  {
   "cell_type": "markdown",
   "metadata": {
    "id": "CHDhat43ogMQ"
   },
   "source": [
    "# Cuda check"
   ]
  },
  {
   "cell_type": "code",
   "execution_count": 22,
   "metadata": {
    "colab": {
     "base_uri": "https://localhost:8080/"
    },
    "executionInfo": {
     "elapsed": 13,
     "status": "ok",
     "timestamp": 1744033157102,
     "user": {
      "displayName": "moon cake",
      "userId": "15622537257136124626"
     },
     "user_tz": -60
    },
    "id": "7Aipe8RLOzQk",
    "outputId": "12e576c9-5330-43aa-c9b3-309900218dfd"
   },
   "outputs": [
    {
     "name": "stdout",
     "output_type": "stream",
     "text": [
      "cuda good!\n",
      "GPU num:  1\n",
      "GPU type:  Tesla T4\n",
      "GPU memory: 15.83 Gbyte\n"
     ]
    }
   ],
   "source": [
    "import torch\n",
    "\n",
    "gpu_num = 0\n",
    "cuda_ready = False\n",
    "\n",
    "if torch.cuda.is_available():\n",
    "    cuda_ready = True\n",
    "    print('cuda good!')\n",
    "    gpu_num = torch.cuda.device_count()\n",
    "    if (gpu_num < 1):\n",
    "        print('GPU unavailable')\n",
    "    else:\n",
    "        print('GPU num: ', gpu_num)  # 查看GPU数量\n",
    "        for gpu in range(gpu_num):\n",
    "            print('GPU type: ', torch.cuda.get_device_name(gpu))  # 查看GPU名称\n",
    "            print('GPU memory: {:.2f} Gbyte'.format(\n",
    "                torch.cuda.get_device_properties(gpu).total_memory /\n",
    "                1e9))  # 查看GPU总内存\n",
    "else:\n",
    "    cuda_ready = False\n",
    "    print('cuda unavailable!')\n"
   ]
  },
  {
   "cell_type": "markdown",
   "metadata": {
    "id": "9z1whOUtaPbq"
   },
   "source": [
    "# Start coding"
   ]
  },
  {
   "cell_type": "code",
   "execution_count": 23,
   "metadata": {
    "colab": {
     "base_uri": "https://localhost:8080/"
    },
    "executionInfo": {
     "elapsed": 10,
     "status": "ok",
     "timestamp": 1744033157115,
     "user": {
      "displayName": "moon cake",
      "userId": "15622537257136124626"
     },
     "user_tz": -60
    },
    "id": "LSndganfafmO",
    "outputId": "f2f63618-afc5-46f1-c19d-2731a681db75"
   },
   "outputs": [
    {
     "name": "stdout",
     "output_type": "stream",
     "text": [
      "colab\n",
      "/content/drive/MyDrive/Maglearn_2/MagNet_comb\n",
      "True\n",
      "/content/drive/MyDrive/Maglearn_2/MagNet_comb\n"
     ]
    }
   ],
   "source": [
    "print(platform)\n",
    "print(os.getcwd())\n",
    "print(cuda_ready)\n",
    "print(os.path.abspath(''))"
   ]
  },
  {
   "cell_type": "code",
   "execution_count": 24,
   "metadata": {
    "executionInfo": {
     "elapsed": 3,
     "status": "ok",
     "timestamp": 1744033157121,
     "user": {
      "displayName": "moon cake",
      "userId": "15622537257136124626"
     },
     "user_tz": -60
    },
    "id": "8q3WkMaUtvSZ"
   },
   "outputs": [],
   "source": [
    "import numpy as np\n",
    "import torch\n",
    "import torch.optim as optim\n",
    "import torch.nn as nn\n",
    "import torch.nn.functional as F\n",
    "import matplotlib.pyplot as plt\n",
    "\n",
    "\n",
    "import NW_LSTM\n",
    "import NN_DataLoader"
   ]
  },
  {
   "cell_type": "code",
   "execution_count": 25,
   "metadata": {
    "colab": {
     "base_uri": "https://localhost:8080/"
    },
    "executionInfo": {
     "elapsed": 45,
     "status": "ok",
     "timestamp": 1744033157171,
     "user": {
      "displayName": "moon cake",
      "userId": "15622537257136124626"
     },
     "user_tz": -60
    },
    "id": "ftzXEac3tyHc",
    "outputId": "5829d457-a313-4f19-bf7a-a061f8d20889"
   },
   "outputs": [
    {
     "name": "stdout",
     "output_type": "stream",
     "text": [
      "Device using  cuda\n",
      "LSTMSeq2One(\n",
      "  (lstm): LSTM(1, 30, num_layers=3, batch_first=True)\n",
      "  (fc1): Linear(in_features=32, out_features=128, bias=True)\n",
      "  (fc2): Linear(in_features=128, out_features=196, bias=True)\n",
      "  (fc3): Linear(in_features=196, out_features=128, bias=True)\n",
      "  (fc4): Linear(in_features=128, out_features=96, bias=True)\n",
      "  (fc5): Linear(in_features=96, out_features=32, bias=True)\n",
      "  (fc6): Linear(in_features=32, out_features=32, bias=True)\n",
      "  (fc7): Linear(in_features=32, out_features=16, bias=True)\n",
      "  (fc8): Linear(in_features=16, out_features=1, bias=True)\n",
      "  (relu): ReLU()\n",
      "  (leaky_relu): LeakyReLU(negative_slope=0.01)\n",
      "  (elu): ELU(alpha=1.0)\n",
      "  (sigmoid): Sigmoid()\n",
      ")\n",
      "Total number of parameters:  90653\n",
      "Pre-train model loaded\n"
     ]
    }
   ],
   "source": [
    "# Check if CUDA is available and if so, set the device to GPU\n",
    "device = torch.device(\"cuda\" if torch.cuda.is_available() else \"cpu\")\n",
    "#device = torch.device(\"cpu\")\n",
    "print(\"Device using \",device)\n",
    "\n",
    "# Instantiate the model with appropriate dimensions\n",
    "model = model = NW_LSTM.get_global_model().to(device)\n",
    "\n",
    "# Print the model architecture and parameters number\n",
    "print(model)\n",
    "print(\"Total number of parameters: \", sum(p.numel() for p in model.parameters()))\n",
    "\n",
    "# Load the pre-train model if it exists\n",
    "try:\n",
    "    model.load_state_dict(torch.load(model_saved_name))\n",
    "    print(\"Pre-train model loaded\")\n",
    "except:\n",
    "    print(\"No model found, start training from scratch\")\n",
    "    pass\n",
    "\n",
    "# Define the loss function and optimizer\n",
    "lr = 1e-3 # Define learning rate\n",
    "\n",
    "#loss_fn = nn.MSELoss()\n",
    "loss_fn = NW_LSTM.RelativeLoss()\n",
    "#loss_fn = NW_LSTM.RelativeLoss_abs()\n",
    "optimizer = optim.AdamW(model.parameters(), lr)\n",
    "scheduler = torch.optim.lr_scheduler.CosineAnnealingLR(optimizer, T_max=100, eta_min=0, last_epoch=-1)"
   ]
  },
  {
   "cell_type": "code",
   "execution_count": 26,
   "metadata": {
    "colab": {
     "base_uri": "https://localhost:8080/"
    },
    "executionInfo": {
     "elapsed": 1282861,
     "status": "ok",
     "timestamp": 1744034440036,
     "user": {
      "displayName": "moon cake",
      "userId": "15622537257136124626"
     },
     "user_tz": -60
    },
    "id": "X6OqVZExt06B",
    "outputId": "9ac82ec1-f0c6-4d3d-d05b-5d4cc632afa4"
   },
   "outputs": [
    {
     "name": "stdout",
     "output_type": "stream",
     "text": [
      "Epoch 10/500, Training Loss: 3.978e-04, Remain time: 19.2 min\n",
      "Epoch 20/500, Training Loss: 8.378e-04, Remain time: 18.8 min\n",
      "Epoch 30/500, Training Loss: 9.632e-03, Remain time: 18.3 min\n",
      "Epoch 40/500, Training Loss: 1.512e-03, Remain time: 19.5 min\n",
      "Epoch 50/500, Training Loss: 6.501e-04, Remain time: 20.2 min\n",
      "Epoch 60/500, Training Loss: 5.406e-04, Remain time: 21.5 min\n",
      "Epoch 70/500, Training Loss: 1.151e-03, Remain time: 22.3 min\n",
      "Epoch 80/500, Training Loss: 7.656e-04, Remain time: 23.0 min\n",
      "Epoch 90/500, Training Loss: 4.592e-04, Remain time: 21.9 min\n",
      "Epoch 100/500, Training Loss: 3.820e-04, Remain time: 20.6 min\n",
      "Epoch 110/500, Training Loss: 5.689e-04, Remain time: 21.1 min\n",
      "Epoch 120/500, Training Loss: 2.810e-04, Remain time: 20.3 min\n",
      "Epoch 130/500, Training Loss: 3.648e-04, Remain time: 20.8 min\n",
      "Epoch 140/500, Training Loss: 5.711e-04, Remain time: 20.9 min\n",
      "Epoch 150/500, Training Loss: 4.849e-04, Remain time: 18.4 min\n",
      "Epoch 160/500, Training Loss: 6.000e-04, Remain time: 16.4 min\n",
      "Epoch 170/500, Training Loss: 6.708e-04, Remain time: 14.8 min\n",
      "Epoch 180/500, Training Loss: 1.302e-03, Remain time: 13.8 min\n",
      "Epoch 190/500, Training Loss: 9.928e-04, Remain time: 13.4 min\n",
      "Epoch 200/500, Training Loss: 5.869e-02, Remain time: 12.6 min\n",
      "Epoch 210/500, Training Loss: 7.736e-02, Remain time: 12.8 min\n",
      "Epoch 220/500, Training Loss: 3.877e-02, Remain time: 12.8 min\n",
      "Epoch 230/500, Training Loss: 2.479e-02, Remain time: 12.5 min\n",
      "Epoch 240/500, Training Loss: 9.807e-03, Remain time: 12.8 min\n",
      "Epoch 250/500, Training Loss: 2.899e-03, Remain time: 12.7 min\n",
      "Epoch 260/500, Training Loss: 1.266e-02, Remain time: 12.3 min\n",
      "Epoch 270/500, Training Loss: 1.394e-02, Remain time: 12.6 min\n",
      "Epoch 280/500, Training Loss: 2.928e-03, Remain time: 12.1 min\n",
      "Epoch 290/500, Training Loss: 2.425e-03, Remain time: 11.2 min\n",
      "Epoch 300/500, Training Loss: 7.472e-03, Remain time: 9.8 min\n",
      "Epoch 310/500, Training Loss: 4.333e-03, Remain time: 8.5 min\n",
      "Epoch 320/500, Training Loss: 6.339e-03, Remain time: 7.9 min\n",
      "Epoch 330/500, Training Loss: 5.918e-03, Remain time: 6.9 min\n",
      "Epoch 340/500, Training Loss: 1.538e-02, Remain time: 6.2 min\n",
      "Epoch 350/500, Training Loss: 1.367e-02, Remain time: 6.0 min\n",
      "Epoch 360/500, Training Loss: 1.242e-02, Remain time: 5.5 min\n",
      "Epoch 370/500, Training Loss: 4.162e-03, Remain time: 5.1 min\n",
      "Epoch 380/500, Training Loss: 3.489e-03, Remain time: 4.8 min\n",
      "Epoch 390/500, Training Loss: 8.158e-04, Remain time: 4.4 min\n",
      "Epoch 400/500, Training Loss: 1.480e-03, Remain time: 4.0 min\n",
      "Epoch 410/500, Training Loss: 3.069e-03, Remain time: 3.5 min\n",
      "Epoch 420/500, Training Loss: 9.388e-04, Remain time: 3.1 min\n",
      "Epoch 430/500, Training Loss: 1.486e-02, Remain time: 2.7 min\n",
      "Epoch 440/500, Training Loss: 4.463e-03, Remain time: 2.4 min\n",
      "Epoch 450/500, Training Loss: 2.916e-03, Remain time: 2.0 min\n",
      "Epoch 460/500, Training Loss: 2.090e-03, Remain time: 1.6 min\n",
      "Epoch 470/500, Training Loss: 2.053e-03, Remain time: 1.2 min\n",
      "Epoch 480/500, Training Loss: 6.259e-04, Remain time: 0.8 min\n",
      "Epoch 490/500, Training Loss: 9.453e-04, Remain time: 0.4 min\n",
      "Epoch 500/500, Training Loss: 9.358e-04, Remain time: 0.0 min\n"
     ]
    }
   ],
   "source": [
    "# Default para in desktop env\n",
    "epochs = 100\n",
    "valid_batch_size=1000\n",
    "\n",
    "if platform == \"colab\":\n",
    "  epochs = 500\n",
    "  valid_batch_size=3000\n",
    "\n",
    "# Define dataset path and model name\n",
    "dataset_path = os.path.join(material_name, savePathstd)\n",
    "model_saved_name = os.path.join(material_name, \"model_colab.ckpt\")\n",
    "\n",
    "\n",
    "# print(os.path.normpath(material_name + dataset_path + \"/train.mat\"))\n",
    "\n",
    "train_dataloader = NN_DataLoader.get_dataLoader(os.path.normpath(dataset_path +\n",
    "                                                            \"/train.mat\"),\n",
    "                                          batch_size=128)\n",
    "\n",
    "\n",
    "# Get validation data\n",
    "valid_dataloader = NN_DataLoader.get_dataLoader(os.path.normpath(dataset_path +\n",
    "                                                            \"/valid.mat\"),\n",
    "                                            batch_size=valid_batch_size)\n",
    "valid_inputs, valid_targets = next(iter(valid_dataloader))\n",
    "valid_inputs, valid_targets = valid_inputs.to(device), valid_targets.to(device)\n",
    "\n",
    "\n",
    "# Prepare a list to store validation relative losses per epoch\n",
    "val_relative_losses = []\n",
    "\n",
    "# estimate time used for training\n",
    "import time\n",
    "t0 = time.perf_counter()\n",
    "\n",
    "# Save the model with the lowest validation loss\n",
    "with torch.no_grad():\n",
    "    valid_outputs = model(valid_inputs)\n",
    "    # Compute loss\n",
    "    minium_loss = loss_fn(valid_outputs, valid_targets)\n",
    "    relative_loss = torch.mean(torch.abs((valid_outputs - valid_targets) / valid_targets)) * 100\n",
    "    val_relative_losses.append(relative_loss.item())\n",
    "\n",
    "# Train the model\n",
    "for epoch in range(epochs):\n",
    "\n",
    "    # estimate time used for one epoch(s)\n",
    "    t_epoch = time.perf_counter() - t0\n",
    "    t0 = time.perf_counter()\n",
    "\n",
    "    # Train one epoch\n",
    "    for i, (train_inputs, train_targets) in enumerate(train_dataloader):\n",
    "        # Move data to device\n",
    "        train_inputs, train_targets = train_inputs.to(device), train_targets.to(device)\n",
    "\n",
    "        # Forward pass\n",
    "        train_outputs = model(train_inputs)\n",
    "\n",
    "        # Compute loss\n",
    "        loss = loss_fn(train_outputs, train_targets)\n",
    "\n",
    "        # Backward pass and optimize\n",
    "        optimizer.zero_grad()\n",
    "        loss.backward()\n",
    "        optimizer.step()\n",
    "\n",
    "    # Compute validation loss\n",
    "    if epoch > 0:\n",
    "        with torch.no_grad():\n",
    "            valid_outputs = model(valid_inputs)\n",
    "            # Compute loss\n",
    "            valid_loss = loss_fn(valid_outputs, valid_targets)\n",
    "            relative_loss = torch.mean(torch.abs((valid_outputs - valid_targets) / valid_targets)) * 100\n",
    "            val_relative_losses.append(relative_loss.item())\n",
    "\n",
    "        # 只要有提升就保存模型\n",
    "        if valid_loss < minium_loss:\n",
    "            minium_loss = valid_loss\n",
    "            torch.save(model.state_dict(), model_saved_name)\n",
    "            print(f\"  Model saved , Validation Loss: {valid_loss.item():.3e}, lr: {optimizer.param_groups[0]['lr']:.3e}\")\n",
    "\n",
    "    # update lr\n",
    "    scheduler.step()\n",
    "\n",
    "    # Print loss every 10 epochs 每十次会打印Epoch\n",
    "    if (epoch + 1) % 10 == 0:\n",
    "        print(f\"Epoch {epoch + 1}/{epochs}, Training Loss: {loss.item():.3e}, \"\n",
    "            #   f\"Validation Loss: {valid_loss.item():.3e} ,\"\n",
    "              f\"Remain time: {t_epoch/60 * (epochs - epoch - 1):.1f} min\")\n",
    "\n"
   ]
  },
  {
   "cell_type": "markdown",
   "metadata": {
    "id": "FtD89Ws8VVcq"
   },
   "source": [
    "# Converge Plot"
   ]
  },
  {
   "cell_type": "code",
   "execution_count": 27,
   "metadata": {
    "colab": {
     "base_uri": "https://localhost:8080/",
     "height": 410
    },
    "executionInfo": {
     "elapsed": 252,
     "status": "ok",
     "timestamp": 1744034440285,
     "user": {
      "displayName": "moon cake",
      "userId": "15622537257136124626"
     },
     "user_tz": -60
    },
    "id": "0G9wHSdeVVcr",
    "outputId": "8e7a1328-fba3-4d00-f24c-f37acf6d9a97"
   },
   "outputs": [
    {
     "data": {
      "image/png": "[encoded data removed]",
      "text/plain": [
       "<Figure size 600x400 with 1 Axes>"
      ]
     },
     "metadata": {},
     "output_type": "display_data"
    }
   ],
   "source": [
    "# Plot the validation relative loss vs epochs\n",
    "plt.figure(figsize=(6,4))\n",
    "plt.plot(range(len(val_relative_losses)), val_relative_losses, marker='o', label='Validation Relative Loss')\n",
    "plt.xlabel('Epoch')\n",
    "plt.ylabel('Relative Loss (%)')\n",
    "plt.title('Convergence of Validation Relative Loss')\n",
    "plt.yscale('log')\n",
    "plt.legend()\n",
    "plt.grid(True)\n",
    "plt.show()\n"
   ]
  },
  {
   "cell_type": "markdown",
   "metadata": {
    "id": "Cszxdb72g9AO"
   },
   "source": [
    "## GPU monitor\n",
    "### nvidia-smi -l 3"
   ]
  }
 ],
 "metadata": {
  "accelerator": "GPU",
  "colab": {
   "gpuType": "T4",
   "provenance": [],
   "toc_visible": true
  },
  "kernelspec": {
   "display_name": "Maglearn",
   "language": "python",
   "name": "python3"
  },
  "language_info": {
   "codemirror_mode": {
    "name": "ipython",
    "version": 3
   },
   "file_extension": ".py",
   "mimetype": "text/x-python",
   "name": "python",
   "nbconvert_exporter": "python",
   "pygments_lexer": "ipython3",
   "version": "3.12.9"
  }
 },
 "nbformat": 4,
 "nbformat_minor": 0
}
