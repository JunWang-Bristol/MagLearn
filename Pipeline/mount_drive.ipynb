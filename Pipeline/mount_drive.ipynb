{
 "cells": [
  {
   "cell_type": "code",
   "execution_count": 2,
   "metadata": {
    "colab": {
     "base_uri": "https://localhost:8080/"
    },
    "executionInfo": {
     "elapsed": 892,
     "status": "ok",
     "timestamp": 1743088211263,
     "user": {
      "displayName": "moon cake",
      "userId": "15622537257136124626"
     },
     "user_tz": 0
    },
    "id": "_vn7nX4eJfWl",
    "outputId": "0a3ccf69-dfab-4bf3-fcd3-fad45397fb04"
   },
   "outputs": [
    {
     "name": "stdout",
     "output_type": "stream",
     "text": [
      "Drive already mounted at /content/drive; to attempt to forcibly remount, call drive.mount(\"/content/drive\", force_remount=True).\n"
     ]
    }
   ],
   "source": [
    "from google.colab import drive\n",
    "drive.mount('/content/drive')\n"
   ]
  },
  {
   "cell_type": "code",
   "execution_count": null,
   "metadata": {
    "colab": {
     "base_uri": "https://localhost:8080/"
    },
    "executionInfo": {
     "elapsed": 126,
     "status": "ok",
     "timestamp": 1743092955977,
     "user": {
      "displayName": "moon cake",
      "userId": "15622537257136124626"
     },
     "user_tz": 0
    },
    "id": "sXrdcLnrJ5hG",
    "outputId": "16465499-01b6-4b89-9e3a-67acf6158dc8"
   },
   "outputs": [
    {
     "name": "stdout",
     "output_type": "stream",
     "text": [
      "['gui.py', 'dataTransform.py', 'linear_std.py', 'NW_LSTM.py', 'test.ipynb', 'Maglib.py', 'NN_DataLoader.py', 'User_dataTransform.ipynb', 'path_config.py', 'MagNet.py', 'User_verify.ipynb', 'User_training.ipynb', '.vscode', '3C90', '__pycache__']\n",
      "/content/drive/MyDrive/Maglearn_2/MagNet_comb\n",
      "3C90\t\t  linear_std.py  NN_DataLoader.py  __pycache__\t\t     User_training.ipynb\n",
      "dataTransform.py  Maglib.py\t NW_LSTM.py\t   test.ipynb\t\t     User_verify.ipynb\n",
      "gui.py\t\t  MagNet.py\t path_config.py    User_dataTransform.ipynb\n"
     ]
    }
   ],
   "source": [
    "import os\n",
    "\n",
    "# Change the path to your directory on Google Drive\n",
    "path = \"/content/drive/MyDrive/Pipeline\"\n",
    "print(os.listdir(path))\n",
    "\n",
    "%cd /content/drive/MyDrive/Maglearn_2/MagNet_comb\n",
    "!ls"
   ]
  },
  {
   "cell_type": "code",
   "execution_count": null,
   "metadata": {
    "id": "D_kmRUS7apLS"
   },
   "outputs": [],
   "source": []
  }
 ],
 "metadata": {
  "colab": {
   "authorship_tag": "ABX9TyO7/0CCHiwmyETqo6ovSNai",
   "provenance": []
  },
  "kernelspec": {
   "display_name": "Python 3",
   "name": "python3"
  },
  "language_info": {
   "name": "python"
  }
 },
 "nbformat": 4,
 "nbformat_minor": 0
}
