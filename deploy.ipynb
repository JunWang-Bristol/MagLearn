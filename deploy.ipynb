{
 "cells": [
  {
   "cell_type": "code",
   "execution_count": 1,
   "metadata": {},
   "outputs": [],
   "source": [
    "import os\n",
    "import numpy as np\n",
    "import MagNet"
   ]
  },
  {
   "cell_type": "markdown",
   "metadata": {},
   "source": [
    "Import Model"
   ]
  },
  {
   "cell_type": "code",
   "execution_count": 2,
   "metadata": {},
   "outputs": [],
   "source": [
    "model_dir = r'C:\\Users\\ossia\\OneDrive - University of Bristol\\2024 Summer Research Internsip\\Test_Material\\3C90.ckpt'\n",
    "B_waveform_dir = r'C:\\Users\\ossia\\OneDrive - University of Bristol\\2024 Summer Research Internsip\\Test_Material\\3C90_test_B.csv' # T"
   ]
  },
  {
   "cell_type": "markdown",
   "metadata": {},
   "source": [
    "Input Parameters"
   ]
  },
  {
   "cell_type": "code",
   "execution_count": 3,
   "metadata": {},
   "outputs": [],
   "source": [
    "f = 50020 # Hz\n",
    "T = 25 # C"
   ]
  },
  {
   "cell_type": "code",
   "execution_count": 4,
   "metadata": {},
   "outputs": [],
   "source": [
    "B = np.loadtxt(B_waveform_dir, delimiter=',').astype(np.float32)[:,np.newaxis]"
   ]
  },
  {
   "cell_type": "markdown",
   "metadata": {},
   "source": [
    "Calculate Loss"
   ]
  },
  {
   "cell_type": "code",
   "execution_count": 6,
   "metadata": {},
   "outputs": [
    {
     "name": "stdout",
     "output_type": "stream",
     "text": [
      "Power Loss Density = -0.029522064328193664 W/m^3\n"
     ]
    }
   ],
   "source": [
    "loss = MagNet.MagLoss_shiftflip(\n",
    "    B,\n",
    "    np.array([[T]]),\n",
    "    np.array([[f]]),\n",
    "    model_dir,\n",
    "    test_num=100\n",
    ")\n",
    "print(f'Power Loss Density = {float(loss)} W/m^3')"
   ]
  }
 ],
 "metadata": {
  "kernelspec": {
   "display_name": "base",
   "language": "python",
   "name": "python3"
  },
  "language_info": {
   "codemirror_mode": {
    "name": "ipython",
    "version": 3
   },
   "file_extension": ".py",
   "mimetype": "text/x-python",
   "name": "python",
   "nbconvert_exporter": "python",
   "pygments_lexer": "ipython3",
   "version": "3.11.7"
  }
 },
 "nbformat": 4,
 "nbformat_minor": 2
}
