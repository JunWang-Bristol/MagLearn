{
 "cells": [
  {
   "cell_type": "code",
   "execution_count": 1,
   "metadata": {},
   "outputs": [],
   "source": [
    "import numpy as np\n",
    "import MagNet"
   ]
  },
  {
   "cell_type": "markdown",
   "metadata": {},
   "source": [
    "Set path to .ckpt model containing embedded standardisation parameters"
   ]
  },
  {
   "cell_type": "code",
   "execution_count": 2,
   "metadata": {},
   "outputs": [],
   "source": [
    "model_dir = r'C:\\Users\\ossia\\OneDrive - University of Bristol\\2024 Summer Research Internsip\\Test_Material\\3C90.ckpt'"
   ]
  },
  {
   "cell_type": "markdown",
   "metadata": {},
   "source": [
    "Set path to B waveform csv, this should only be one cycle, although the model may work automatically for waveforms containing multiple cycles. \n",
    "\n",
    "The waveform sequence should be in Teslas aligned as a row in the csv, in the same format as a single row in *example_material/B_waveform[T].csv*"
   ]
  },
  {
   "cell_type": "code",
   "execution_count": null,
   "metadata": {},
   "outputs": [],
   "source": [
    "B_waveform_dir = r'C:\\Users\\ossia\\OneDrive - University of Bristol\\2024 Summer Research Internsip\\Test_Material\\3C90_test_B.csv'"
   ]
  },
  {
   "cell_type": "markdown",
   "metadata": {},
   "source": [
    "Set AC frequency and magnet material surface temperature"
   ]
  },
  {
   "cell_type": "code",
   "execution_count": 3,
   "metadata": {},
   "outputs": [],
   "source": [
    "f = 50020 # Hz\n",
    "T = 25 # C"
   ]
  },
  {
   "cell_type": "code",
   "execution_count": 4,
   "metadata": {},
   "outputs": [],
   "source": [
    "B = np.loadtxt(B_waveform_dir, delimiter=',').astype(np.float32)[:,np.newaxis]"
   ]
  },
  {
   "cell_type": "markdown",
   "metadata": {},
   "source": [
    "Calculate hysteresis loss density, requires *MagNet.py, Maglib.py, NW_LSTM.py*"
   ]
  },
  {
   "cell_type": "code",
   "execution_count": 6,
   "metadata": {},
   "outputs": [
    {
     "name": "stdout",
     "output_type": "stream",
     "text": [
      "Power Loss Density = -0.029522064328193664 W/m^3\n"
     ]
    }
   ],
   "source": [
    "loss = MagNet.MagLoss_shiftflip(\n",
    "    B,\n",
    "    np.array([[T]]),\n",
    "    np.array([[f]]),\n",
    "    model_dir,\n",
    "    test_num=100\n",
    ")\n",
    "print(f'Power Loss Density = {float(loss)} W/m^3')"
   ]
  }
 ],
 "metadata": {
  "kernelspec": {
   "display_name": "base",
   "language": "python",
   "name": "python3"
  },
  "language_info": {
   "codemirror_mode": {
    "name": "ipython",
    "version": 3
   },
   "file_extension": ".py",
   "mimetype": "text/x-python",
   "name": "python",
   "nbconvert_exporter": "python",
   "pygments_lexer": "ipython3",
   "version": "3.11.7"
  }
 },
 "nbformat": 4,
 "nbformat_minor": 2
}
