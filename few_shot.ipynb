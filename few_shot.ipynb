{
 "cells": [
  {
   "cell_type": "markdown",
   "metadata": {},
   "source": [
    "## Work in progress\n",
    "\n",
    "Requires porting Arthur's code on wave classification and wave category augmentation to progress"
   ]
  },
  {
   "cell_type": "code",
   "execution_count": 9,
   "metadata": {},
   "outputs": [],
   "source": [
    "import os\n",
    "from Maglib import *\n",
    "from dataTransform import *"
   ]
  },
  {
   "cell_type": "code",
   "execution_count": 2,
   "metadata": {},
   "outputs": [],
   "source": [
    "base_weights_dir = r'C:\\Users\\ossia\\Documents\\GitHub\\MagLearn-Bristol-2\\Single Pipeline\\preprocessed_training_dataset\\Trained Weights'\n",
    "new_mat_dir = r'C:\\Users\\ossia\\Documents\\GitHub\\MagLearn-Bristol-2\\Single Pipeline\\Material A'"
   ]
  },
  {
   "cell_type": "code",
   "execution_count": 3,
   "metadata": {},
   "outputs": [
    {
     "name": "stdout",
     "output_type": "stream",
     "text": [
      "Identified weights for the following base materials: ['3C90', '3C94', '3E6', '3F4', '77', '78', 'N27', 'N30', 'N49', 'N87']\n"
     ]
    }
   ],
   "source": [
    "base_weights = []\n",
    "base_weights = [os.path.splitext(item)[0] for item in os.listdir(base_weights_dir)\n",
    "                if item.endswith('.ckpt') and os.path.isfile(os.path.join(base_weights_dir, item))]\n",
    "if base_weights == []:\n",
    "    raise RuntimeError(f'No .ckpt models found in \"{base_weights_dir}\", ensure category defined by base_weights_dir contains individual .ckpt files corresponding to each trained base material.')\n",
    "\n",
    "# Print the list of trained models found\n",
    "print(\"Identified weights for the following base materials:\", base_weights)"
   ]
  },
  {
   "cell_type": "code",
   "execution_count": 4,
   "metadata": {},
   "outputs": [
    {
     "name": "stdout",
     "output_type": "stream",
     "text": [
      "All required data subfolders and csv files found in 'C:\\Users\\ossia\\Documents\\GitHub\\MagLearn-Bristol-2\\Single Pipeline\\Material A'\n"
     ]
    }
   ],
   "source": [
    "categories = ['Train Data', 'Test Data'] # The required subfolders within new_mat_dir\n",
    "csv_names = ['B_waveform[T].csv', 'Temperature[C].csv', 'Frequency[Hz].csv', 'Volumetric_losses[Wm-3].csv'] # Concentional naming of csv files used is same as original MagNet training data\n",
    "# Check for the required subfolders\n",
    "for category in categories:\n",
    "    data_subdir = os.path.join(new_mat_dir, category)\n",
    "    if category not in os.listdir(new_mat_dir) or not os.path.isdir(data_subdir):\n",
    "        raise RuntimeError(f\"The required subfolder '{category}' is missing. Please ensure it exists in the '{new_mat_dir}' directory.\")\n",
    "    for csv in csv_names:\n",
    "        if not os.path.isfile(os.path.join(data_subdir, csv)):\n",
    "            raise RuntimeError(f\"'{csv}' not found in '{category}'. CSV data must be named and formatted in same convention as original MagNet training data.\")\n",
    "print(f\"All required data subfolders and csv files found in '{new_mat_dir}'\")"
   ]
  },
  {
   "cell_type": "code",
   "execution_count": 11,
   "metadata": {},
   "outputs": [
    {
     "name": "stdout",
     "output_type": "stream",
     "text": [
      "Data transform done\n",
      "Data transform done\n"
     ]
    }
   ],
   "source": [
    "trainData = Maglib.MagLoader(os.path.join(new_mat_dir, 'Train Data'), data_source = 'csv')\n",
    "testData = Maglib.MagLoader(os.path.join(new_mat_dir, 'Test Data'), data_source = 'csv')\n",
    "transformed_trainData = dataTransform(trainData, 128, os.path.join(new_mat_dir, 'Train Data'))\n",
    "transformed_testData = dataTransform(testData, 128, os.path.join(new_mat_dir, 'Test Data'))"
   ]
  },
  {
   "cell_type": "code",
   "execution_count": null,
   "metadata": {},
   "outputs": [],
   "source": [
    "for model in base_weights:\n",
    "    "
   ]
  }
 ],
 "metadata": {
  "kernelspec": {
   "display_name": "base",
   "language": "python",
   "name": "python3"
  },
  "language_info": {
   "codemirror_mode": {
    "name": "ipython",
    "version": 3
   },
   "file_extension": ".py",
   "mimetype": "text/x-python",
   "name": "python",
   "nbconvert_exporter": "python",
   "pygments_lexer": "ipython3",
   "version": "3.11.7"
  }
 },
 "nbformat": 4,
 "nbformat_minor": 2
}
