{
 "cells": [
  {
   "cell_type": "code",
   "execution_count": null,
   "metadata": {},
   "outputs": [],
   "source": [
    "from dataTransform import *\n",
    "from Maglib import *\n",
    "import numpy as np\n",
    "import os\n",
    "import shutil\n",
    "import numpy as np"
   ]
  },
  {
   "cell_type": "markdown",
   "metadata": {},
   "source": [
    "# Path Setting"
   ]
  },
  {
   "cell_type": "code",
   "execution_count": null,
   "metadata": {},
   "outputs": [],
   "source": [
    "raw_data_path = r\"C:\\Users\\ossia\\Downloads\\pre-training\\pre-training\" # Set path to folder containing unzipped MagNet material datasets\n",
    "processed_data = \"preprocessed_training_dataset\" # Name of folder in cwd that will store downsampled, split (train, test, validate) material data\n",
    "\n",
    "current_directory = os.getcwd()\n",
    "\n",
    "# Create the full path to the new folder\n",
    "new_folder_path = os.path.join(current_directory, processed_data)\n",
    "\n",
    "# Remove the existing folder if it exists\n",
    "if os.path.exists(new_folder_path):\n",
    "    shutil.rmtree(new_folder_path)\n",
    "    print(f\"Existing folder '{processed_data}' deleted\")\n",
    "\n",
    "# Create the new folder\n",
    "os.makedirs(new_folder_path)\n",
    "print(f\"Folder '{processed_data}' created in {current_directory}\")\n",
    "\n",
    "training_materials = []\n",
    "\n",
    "# Iterate through the materials in raw directory\n",
    "for item in os.listdir(raw_data_path):\n",
    "    item_path = os.path.join(raw_data_path, item)\n",
    "    if os.path.isdir(item_path):\n",
    "        training_materials.append(item)\n",
    "\n",
    "print(\"Training Materials:\", training_materials)\n",
    "\n",
    "# Save the list of training materials to a text file\n",
    "with open(\"training_materials.txt\", 'w') as file:\n",
    "    for mat in training_materials:\n",
    "        file.write(mat + '\\n')\n",
    "print(f\"List of training materials have been saved to cwd\")"
   ]
  },
  {
   "cell_type": "markdown",
   "metadata": {},
   "source": [
    "# Training Data Pre-Processing"
   ]
  },
  {
   "cell_type": "code",
   "execution_count": null,
   "metadata": {},
   "outputs": [],
   "source": [
    "for mat in training_materials: # Will iterate through all materials present in provided training dataset folder, outputting to processed_data folder\n",
    "    processed_mat_path = os.path.join(processed_data, mat) # Create folder for processed material data\n",
    "    try:\n",
    "        os.makedirs(processed_mat_path) # Create the new subfolder for material\n",
    "        print(f\"Subfolder '{mat}' created in {processed_data}\")\n",
    "    except FileExistsError:\n",
    "        print(f\"Subfolder '{mat}' already exists in {processed_data}\")\n",
    "        continue\n",
    "    \n",
    "    unprocessed_mat_path = os.path.join(raw_data_path, mat)\n",
    "    raw_data = Maglib.MagLoader(\n",
    "        unprocessed_mat_path,\n",
    "        data_source='csv'\n",
    "    )\n",
    "    newStep=128 # Resampled length \n",
    "        \n",
    "    # Ensures all arrays are 2 dimensional\n",
    "    def ensure_2d(arr): \n",
    "        if arr.ndim == 1:\n",
    "            return arr[:, np.newaxis]\n",
    "        return arr\n",
    "    raw_data.temp = ensure_2d(raw_data.temp)\n",
    "    raw_data.loss = ensure_2d(raw_data.loss)\n",
    "    raw_data.freq = ensure_2d(raw_data.freq)\n",
    "    \n",
    "    raw_data=dataTransform(raw_data, newStep, processed_mat_path, plot=False)\n",
    "    dataSplit(raw_data, processed_mat_path)\n",
    "    print(\"Rescaled, downsampled and split material:\", mat)"
   ]
  }
 ],
 "metadata": {
  "kernelspec": {
   "display_name": "base",
   "language": "python",
   "name": "python3"
  },
  "language_info": {
   "codemirror_mode": {
    "name": "ipython",
    "version": 3
   },
   "file_extension": ".py",
   "mimetype": "text/x-python",
   "name": "python",
   "nbconvert_exporter": "python",
   "pygments_lexer": "ipython3",
   "version": "3.11.7"
  }
 },
 "nbformat": 4,
 "nbformat_minor": 2
}
