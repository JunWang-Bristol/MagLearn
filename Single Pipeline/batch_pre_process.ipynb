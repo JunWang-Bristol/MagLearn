{
 "cells": [
  {
   "cell_type": "markdown",
   "metadata": {},
   "source": [
    "Import relevant libraries"
   ]
  },
  {
   "cell_type": "code",
   "execution_count": null,
   "metadata": {},
   "outputs": [],
   "source": [
    "import numpy as np\n",
    "import os\n",
    "import numpy as np\n",
    "\n",
    "from dataTransform import *\n",
    "from Maglib import *"
   ]
  },
  {
   "cell_type": "markdown",
   "metadata": {},
   "source": [
    "**Specify relevant directories**\n",
    "\n",
    "*raw_data_path* = folder containing unzipped MagNet material csv datasets, where each material contains at least the following csvs, each in the MagNet format (see https://www.princeton.edu/~minjie/magnet.html):\n",
    "-\tB_waveform[T].csv\n",
    "-\tFrequency[Hz].csv\n",
    "-\tTemperature[C].csv\n",
    "-\tVolumetric_losses[Wm-3].csv\n",
    "\n",
    "*data_dir* = Specify the directory to store downsampled, split (train, test, validate) material data. This directory will also be used to store other relevant outputs in the training and verification pipelines.\n"
   ]
  },
  {
   "cell_type": "code",
   "execution_count": null,
   "metadata": {},
   "outputs": [],
   "source": [
    "raw_data_path = r\"C:\\Users\\ossia\\Downloads\\pre-training\\pre-training\" \n",
    "data_dir = \"preprocessed_training_dataset_2\"\n",
    "\n",
    "if not os.path.exists(data_dir): # Ensure data_dir exists\n",
    "    raise RuntimeError('Directory specified by data_dir does not exist, ensure data_dir points to a folder where the processed data can be stored.')\n",
    "\n",
    "processed_data_dir = os.path.join(data_dir, 'Processed Training Data') # Directory where processed training data will be saved\n",
    "os.makedirs(processed_data_dir, exist_ok=True)\n",
    "\n",
    "training_materials = []\n",
    "\n",
    "# Create list of training materials in raw directory\n",
    "for item in os.listdir(raw_data_path):\n",
    "    item_path = os.path.join(raw_data_path, item)\n",
    "    if os.path.isdir(item_path):\n",
    "        training_materials.append(item)\n",
    "\n",
    "print(\"Training Materials:\", training_materials)\n",
    "\n",
    "# Save the list of training materials to a text file\n",
    "with open(\"training_materials.txt\", 'w') as file:\n",
    "    for mat in training_materials:\n",
    "        file.write(mat + '\\n')\n",
    "print(f\"List of training materials have been saved to cwd\")"
   ]
  },
  {
   "cell_type": "markdown",
   "metadata": {},
   "source": [
    "**Resample, rescale and split data**\n",
    "\n",
    "*newStep* = Number of samples for resampled B timeseries, this must only be adjusted if also adjusting the layer dimensions in *NW_LSTM.py* and modifying the value of newStep within MagLoss in *MagNet.py* when using MagLoss to infer losses from models with modified sample numbers. "
   ]
  },
  {
   "cell_type": "code",
   "execution_count": null,
   "metadata": {},
   "outputs": [],
   "source": [
    "newStep=128\n",
    "\n",
    "for mat in training_materials: # Will iterate through all materials present in provided training dataset folder, only processing  materials not present in output folder\n",
    "    processed_mat_path = os.path.join(processed_data_dir, mat) # Create folder for processed material data\n",
    "    try:\n",
    "        os.makedirs(processed_mat_path) # Create the new subfolder for material\n",
    "        print(f\"Subfolder '{mat}' created in '{processed_data_dir}'\")\n",
    "    except FileExistsError:\n",
    "        print(f\"Preprocessed data for '{mat}' already exists in '{processed_data_dir}', skipping this material\")\n",
    "        continue\n",
    "    \n",
    "    unprocessed_mat_path = os.path.join(raw_data_path, mat)\n",
    "    raw_data = Maglib.MagLoader(\n",
    "        unprocessed_mat_path,\n",
    "        data_source='csv'\n",
    "    )\n",
    "        \n",
    "    # Ensures all arrays are 2 dimensional\n",
    "    def ensure_2d(arr): \n",
    "        if arr.ndim == 1:\n",
    "            return arr[:, np.newaxis]\n",
    "        return arr\n",
    "    raw_data.temp = ensure_2d(raw_data.temp)\n",
    "    raw_data.loss = ensure_2d(raw_data.loss)\n",
    "    raw_data.freq = ensure_2d(raw_data.freq)\n",
    "    \n",
    "    raw_data=dataTransform(raw_data, newStep, processed_mat_path, plot=False)\n",
    "    dataSplit(raw_data, processed_mat_path)\n",
    "    print(\"Rescaled, downsampled and split material:\", mat)"
   ]
  }
 ],
 "metadata": {
  "kernelspec": {
   "display_name": "base",
   "language": "python",
   "name": "python3"
  },
  "language_info": {
   "codemirror_mode": {
    "name": "ipython",
    "version": 3
   },
   "file_extension": ".py",
   "mimetype": "text/x-python",
   "name": "python",
   "nbconvert_exporter": "python",
   "pygments_lexer": "ipython3",
   "version": "3.11.7"
  }
 },
 "nbformat": 4,
 "nbformat_minor": 2
}
