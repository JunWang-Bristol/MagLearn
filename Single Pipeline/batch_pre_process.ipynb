{
 "cells": [
  {
   "cell_type": "code",
   "execution_count": 2,
   "metadata": {},
   "outputs": [],
   "source": [
    "from dataTransform import *\n",
    "from Maglib import *\n",
    "import numpy as np\n",
    "import os\n",
    "import shutil\n",
    "import numpy as np"
   ]
  },
  {
   "cell_type": "markdown",
   "metadata": {},
   "source": [
    "# Path Setting"
   ]
  },
  {
   "cell_type": "code",
   "execution_count": 3,
   "metadata": {},
   "outputs": [
    {
     "ename": "KeyboardInterrupt",
     "evalue": "",
     "output_type": "error",
     "traceback": [
      "\u001b[1;31m---------------------------------------------------------------------------\u001b[0m",
      "\u001b[1;31mKeyboardInterrupt\u001b[0m                         Traceback (most recent call last)",
      "Cell \u001b[1;32mIn[3], line 11\u001b[0m\n\u001b[0;32m      8\u001b[0m new_folder_path \u001b[38;5;241m=\u001b[39m os\u001b[38;5;241m.\u001b[39mpath\u001b[38;5;241m.\u001b[39mjoin(current_directory, processed_data)\n\u001b[0;32m     10\u001b[0m \u001b[38;5;66;03m# Remove the existing folder if it exists\u001b[39;00m\n\u001b[1;32m---> 11\u001b[0m \u001b[38;5;28;01mif\u001b[39;00m os\u001b[38;5;241m.\u001b[39mpath\u001b[38;5;241m.\u001b[39mexists(new_folder_path):\n\u001b[0;32m     12\u001b[0m     shutil\u001b[38;5;241m.\u001b[39mrmtree(new_folder_path)\n\u001b[0;32m     13\u001b[0m     \u001b[38;5;28mprint\u001b[39m(\u001b[38;5;124mf\u001b[39m\u001b[38;5;124m\"\u001b[39m\u001b[38;5;124mExisting folder \u001b[39m\u001b[38;5;124m'\u001b[39m\u001b[38;5;132;01m{\u001b[39;00mprocessed_data\u001b[38;5;132;01m}\u001b[39;00m\u001b[38;5;124m'\u001b[39m\u001b[38;5;124m deleted\u001b[39m\u001b[38;5;124m\"\u001b[39m)\n",
      "Cell \u001b[1;32mIn[3], line 11\u001b[0m\n\u001b[0;32m      8\u001b[0m new_folder_path \u001b[38;5;241m=\u001b[39m os\u001b[38;5;241m.\u001b[39mpath\u001b[38;5;241m.\u001b[39mjoin(current_directory, processed_data)\n\u001b[0;32m     10\u001b[0m \u001b[38;5;66;03m# Remove the existing folder if it exists\u001b[39;00m\n\u001b[1;32m---> 11\u001b[0m \u001b[38;5;28;01mif\u001b[39;00m os\u001b[38;5;241m.\u001b[39mpath\u001b[38;5;241m.\u001b[39mexists(new_folder_path):\n\u001b[0;32m     12\u001b[0m     shutil\u001b[38;5;241m.\u001b[39mrmtree(new_folder_path)\n\u001b[0;32m     13\u001b[0m     \u001b[38;5;28mprint\u001b[39m(\u001b[38;5;124mf\u001b[39m\u001b[38;5;124m\"\u001b[39m\u001b[38;5;124mExisting folder \u001b[39m\u001b[38;5;124m'\u001b[39m\u001b[38;5;132;01m{\u001b[39;00mprocessed_data\u001b[38;5;132;01m}\u001b[39;00m\u001b[38;5;124m'\u001b[39m\u001b[38;5;124m deleted\u001b[39m\u001b[38;5;124m\"\u001b[39m)\n",
      "File \u001b[1;32m_pydevd_bundle/pydevd_cython.pyx:1457\u001b[0m, in \u001b[0;36m_pydevd_bundle.pydevd_cython.SafeCallWrapper.__call__\u001b[1;34m()\u001b[0m\n",
      "File \u001b[1;32m_pydevd_bundle/pydevd_cython.pyx:701\u001b[0m, in \u001b[0;36m_pydevd_bundle.pydevd_cython.PyDBFrame.trace_dispatch\u001b[1;34m()\u001b[0m\n",
      "File \u001b[1;32m_pydevd_bundle/pydevd_cython.pyx:1152\u001b[0m, in \u001b[0;36m_pydevd_bundle.pydevd_cython.PyDBFrame.trace_dispatch\u001b[1;34m()\u001b[0m\n",
      "File \u001b[1;32m_pydevd_bundle/pydevd_cython.pyx:1135\u001b[0m, in \u001b[0;36m_pydevd_bundle.pydevd_cython.PyDBFrame.trace_dispatch\u001b[1;34m()\u001b[0m\n",
      "File \u001b[1;32m_pydevd_bundle/pydevd_cython.pyx:312\u001b[0m, in \u001b[0;36m_pydevd_bundle.pydevd_cython.PyDBFrame.do_wait_suspend\u001b[1;34m()\u001b[0m\n",
      "File \u001b[1;32mc:\\Users\\ossia\\anaconda3\\Lib\\site-packages\\debugpy\\_vendored\\pydevd\\pydevd.py:2070\u001b[0m, in \u001b[0;36mPyDB.do_wait_suspend\u001b[1;34m(self, thread, frame, event, arg, exception_type)\u001b[0m\n\u001b[0;32m   2067\u001b[0m             from_this_thread\u001b[38;5;241m.\u001b[39mappend(frame_custom_thread_id)\n\u001b[0;32m   2069\u001b[0m     \u001b[38;5;28;01mwith\u001b[39;00m \u001b[38;5;28mself\u001b[39m\u001b[38;5;241m.\u001b[39m_threads_suspended_single_notification\u001b[38;5;241m.\u001b[39mnotify_thread_suspended(thread_id, thread, stop_reason):\n\u001b[1;32m-> 2070\u001b[0m         keep_suspended \u001b[38;5;241m=\u001b[39m \u001b[38;5;28mself\u001b[39m\u001b[38;5;241m.\u001b[39m_do_wait_suspend(thread, frame, event, arg, suspend_type, from_this_thread, frames_tracker)\n\u001b[0;32m   2072\u001b[0m frames_list \u001b[38;5;241m=\u001b[39m \u001b[38;5;28;01mNone\u001b[39;00m\n\u001b[0;32m   2074\u001b[0m \u001b[38;5;28;01mif\u001b[39;00m keep_suspended:\n\u001b[0;32m   2075\u001b[0m     \u001b[38;5;66;03m# This means that we should pause again after a set next statement.\u001b[39;00m\n",
      "File \u001b[1;32mc:\\Users\\ossia\\anaconda3\\Lib\\site-packages\\debugpy\\_vendored\\pydevd\\pydevd.py:2106\u001b[0m, in \u001b[0;36mPyDB._do_wait_suspend\u001b[1;34m(self, thread, frame, event, arg, suspend_type, from_this_thread, frames_tracker)\u001b[0m\n\u001b[0;32m   2103\u001b[0m         \u001b[38;5;28mself\u001b[39m\u001b[38;5;241m.\u001b[39m_call_input_hook()\n\u001b[0;32m   2105\u001b[0m     \u001b[38;5;28mself\u001b[39m\u001b[38;5;241m.\u001b[39mprocess_internal_commands()\n\u001b[1;32m-> 2106\u001b[0m     time\u001b[38;5;241m.\u001b[39msleep(\u001b[38;5;241m0.01\u001b[39m)\n\u001b[0;32m   2108\u001b[0m \u001b[38;5;28mself\u001b[39m\u001b[38;5;241m.\u001b[39mcancel_async_evaluation(get_current_thread_id(thread), \u001b[38;5;28mstr\u001b[39m(\u001b[38;5;28mid\u001b[39m(frame)))\n\u001b[0;32m   2110\u001b[0m \u001b[38;5;66;03m# process any stepping instructions\u001b[39;00m\n",
      "\u001b[1;31mKeyboardInterrupt\u001b[0m: "
     ]
    }
   ],
   "source": [
    "raw_data_path = r\"C:\\Users\\ossia\\Downloads\\pre-training\\pre-training\" # Set path to folder containing unzipped MagNet material datasets\n",
    "\n",
    "processed_data = \"preprocessed_training_dataset\" # Name of folder in cwd that will store downsampled, split (train, test, validate) material data\n",
    "\n",
    "current_directory = os.getcwd()\n",
    "\n",
    "# Create the full path to the new folder\n",
    "new_folder_path = os.path.join(current_directory, processed_data)\n",
    "\n",
    "# Remove the existing folder if it exists\n",
    "if os.path.exists(new_folder_path):\n",
    "    shutil.rmtree(new_folder_path)\n",
    "    print(f\"Existing folder '{processed_data}' deleted\")\n",
    "\n",
    "# Create the new folder\n",
    "os.makedirs(new_folder_path)\n",
    "print(f\"Folder '{processed_data}' created in {current_directory}\")\n",
    "\n",
    "training_materials = []\n",
    "\n",
    "# Iterate through the materials in raw directory\n",
    "for item in os.listdir(raw_data_path):\n",
    "    item_path = os.path.join(raw_data_path, item)\n",
    "    if os.path.isdir(item_path):\n",
    "        training_materials.append(item)\n",
    "\n",
    "print(\"Training Materials:\", training_materials)\n",
    "\n",
    "# Save the list of training materials to a text file\n",
    "with open(\"training_materials.txt\", 'w') as file:\n",
    "    for mat in training_materials:\n",
    "        file.write(mat + '\\n')\n",
    "print(f\"List of training materials have been saved to cwd\")"
   ]
  },
  {
   "cell_type": "markdown",
   "metadata": {},
   "source": [
    "# Training Data Pre-Processing"
   ]
  },
  {
   "cell_type": "code",
   "execution_count": 3,
   "metadata": {},
   "outputs": [
    {
     "name": "stdout",
     "output_type": "stream",
     "text": [
      "Subfolder '3C90' created in processed_training_dataset\n",
      "Data transform done\n",
      "DataSplit done\n",
      "Rescaled, downsampled and split material: 3C90\n",
      "Subfolder '3C94' created in processed_training_dataset\n",
      "Data transform done\n",
      "DataSplit done\n",
      "Rescaled, downsampled and split material: 3C94\n",
      "Subfolder '3E6' created in processed_training_dataset\n",
      "Data transform done\n",
      "DataSplit done\n",
      "Rescaled, downsampled and split material: 3E6\n",
      "Subfolder '3F4' created in processed_training_dataset\n",
      "Data transform done\n",
      "DataSplit done\n",
      "Rescaled, downsampled and split material: 3F4\n",
      "Subfolder '77' created in processed_training_dataset\n",
      "Data transform done\n",
      "DataSplit done\n",
      "Rescaled, downsampled and split material: 77\n",
      "Subfolder '78' created in processed_training_dataset\n",
      "Data transform done\n",
      "DataSplit done\n",
      "Rescaled, downsampled and split material: 78\n",
      "Subfolder 'N27' created in processed_training_dataset\n",
      "Data transform done\n",
      "DataSplit done\n",
      "Rescaled, downsampled and split material: N27\n",
      "Subfolder 'N30' created in processed_training_dataset\n",
      "Data transform done\n",
      "DataSplit done\n",
      "Rescaled, downsampled and split material: N30\n",
      "Subfolder 'N49' created in processed_training_dataset\n",
      "Data transform done\n",
      "DataSplit done\n",
      "Rescaled, downsampled and split material: N49\n",
      "Subfolder 'N87' created in processed_training_dataset\n",
      "Data transform done\n",
      "DataSplit done\n",
      "Rescaled, downsampled and split material: N87\n"
     ]
    }
   ],
   "source": [
    "for mat in training_materials: # Will iterate through all materials present in provided training dataset folder, outputting to processed_data folder\n",
    "    processed_mat_path = os.path.join(processed_data, mat) # Create folder for processed material data\n",
    "    # Create the new subfolder\n",
    "    try:\n",
    "        os.makedirs(processed_mat_path)\n",
    "        print(f\"Subfolder '{mat}' created in {processed_data}\")\n",
    "    except FileExistsError:\n",
    "        print(f\"Subfolder '{mat}' already exists in {processed_data}\")\n",
    "        continue\n",
    "    \n",
    "    unprocessed_mat_path = os.path.join(raw_data_path, mat)\n",
    "    raw_data = Maglib.MagLoader(\n",
    "        unprocessed_mat_path,\n",
    "        data_source='csv'\n",
    "    )\n",
    "    newStep=128 # Resampled length \n",
    "        \n",
    "    # Ensures all arrays are 2 dimensional\n",
    "    def ensure_2d(arr): \n",
    "        if arr.ndim == 1:\n",
    "            return arr[:, np.newaxis]\n",
    "        return arr\n",
    "    raw_data.temp = ensure_2d(raw_data.temp)\n",
    "    raw_data.loss = ensure_2d(raw_data.loss)\n",
    "    raw_data.freq = ensure_2d(raw_data.freq)\n",
    "    \n",
    "    raw_data=dataTransform(raw_data, newStep, processed_mat_path, plot=False)\n",
    "    dataSplit(raw_data, processed_mat_path)\n",
    "    print(\"Rescaled, downsampled and split material:\", mat)"
   ]
  }
 ],
 "metadata": {
  "kernelspec": {
   "display_name": "base",
   "language": "python",
   "name": "python3"
  },
  "language_info": {
   "codemirror_mode": {
    "name": "ipython",
    "version": 3
   },
   "file_extension": ".py",
   "mimetype": "text/x-python",
   "name": "python",
   "nbconvert_exporter": "python",
   "pygments_lexer": "ipython3",
   "version": "3.11.7"
  }
 },
 "nbformat": 4,
 "nbformat_minor": 2
}
